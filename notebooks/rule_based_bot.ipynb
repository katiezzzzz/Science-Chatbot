{
 "cells": [
  {
   "attachments": {},
   "cell_type": "markdown",
   "metadata": {},
   "source": [
    "https://www.youtube.com/watch?v=JzPgeRJfNo4&ab_channel=Intellipaat"
   ]
  },
  {
   "cell_type": "code",
   "execution_count": 1,
   "metadata": {},
   "outputs": [],
   "source": [
    "import re\n",
    "import random"
   ]
  },
  {
   "cell_type": "code",
   "execution_count": null,
   "metadata": {},
   "outputs": [],
   "source": [
    "class RuleBot:\n",
    "    ### Potential Negative Responses \n",
    "    negative_responses = (\"no\", \"nope\", \"nah\", \"naw\", \"not a chance\", \"sorry\")\n",
    "    ### Exit conversation Keywords\n",
    "    exit_commands = (\"quit\", \"pause\", \"exit\", \"goodbye\", \"bye\", \"later\")\n",
    "    ### Random starter question\n",
    "    random_questions = (\n",
    "        \"Why are you here?\",\n",
    "        \"Are there many humans like you?\",\n",
    "        \"What do you consume for sustenance?\",\n",
    "        \"Is there intelligent life on this planet?\",\n",
    "        \"Does Earth have a leader?\",\n",
    "        \"What planets have you visited?\",\n",
    "        \"What technology do you have on this planet?\"\n",
    "    )\n",
    "\n",
    "    def __init__(self):\n",
    "        self.alienbabble = {'describe_planet_intent': r'.*\\s*your planet.*'}"
   ]
  }
 ],
 "metadata": {
  "kernelspec": {
   "display_name": "ML",
   "language": "python",
   "name": "python3"
  },
  "language_info": {
   "codemirror_mode": {
    "name": "ipython",
    "version": 3
   },
   "file_extension": ".py",
   "mimetype": "text/x-python",
   "name": "python",
   "nbconvert_exporter": "python",
   "pygments_lexer": "ipython3",
   "version": "3.8.10"
  },
  "orig_nbformat": 4,
  "vscode": {
   "interpreter": {
    "hash": "b87ff53666c5e87906ecdd7442721966b002930c206cfecc9fbd67dd6037ee6c"
   }
  }
 },
 "nbformat": 4,
 "nbformat_minor": 2
}
